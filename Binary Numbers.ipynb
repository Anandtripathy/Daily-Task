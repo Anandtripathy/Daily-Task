{
 "cells": [
  {
   "cell_type": "code",
   "execution_count": 6,
   "metadata": {},
   "outputs": [
    {
     "name": "stdin",
     "output_type": "stream",
     "text": [
      " 13\n"
     ]
    },
    {
     "name": "stdout",
     "output_type": "stream",
     "text": [
      "1101"
     ]
    }
   ],
   "source": [
    "#!/bin/python3\n",
    "\n",
    "import math\n",
    "import os\n",
    "import random\n",
    "import re\n",
    "import sys\n",
    "\n",
    "\n",
    "\n",
    "if __name__ == '__main__':\n",
    "    n = int(input())\n",
    "# Function to convert decimal number \n",
    "# to binary using recursion \n",
    "def DecimalToBinary(num): \n",
    "      \n",
    "    if num > 1: \n",
    "        DecimalToBinary(num // 2) \n",
    "    print(num % 2, end = '')\n",
    "    \n",
    "  \n",
    "# Driver Code \n",
    "if __name__ == '__main__': \n",
    "      \n",
    "    # decimal value \n",
    "    dec_val = n\n",
    "      \n",
    "    # Calling function \n",
    "    DecimalToBinary(dec_val)"
   ]
  },
  {
   "cell_type": "code",
   "execution_count": 7,
   "metadata": {},
   "outputs": [
    {
     "name": "stdin",
     "output_type": "stream",
     "text": [
      " 13\n"
     ]
    },
    {
     "name": "stdout",
     "output_type": "stream",
     "text": [
      "1101\n",
      "count is = 2\n"
     ]
    }
   ],
   "source": [
    "count = 0\n",
    "max_value = 1\n",
    "\n",
    "if __name__ == '__main__':\n",
    "    n = int(input())\n",
    "    binary_num = bin(n).split(\"b\")\n",
    "    binary_num = binary_num[1]\n",
    "    print(binary_num)\n",
    "    for index, i in enumerate(binary_num):\n",
    "        if i == \"1\":\n",
    "            count += 1\n",
    "            next_item = index + 1 \n",
    "            while next_item < len(binary_num):           \n",
    "                if binary_num[next_item] == \"1\":\n",
    "                    count += 1\n",
    "                    counter = count\n",
    "                    temp = counter                    \n",
    "                    next_item += 1\n",
    "                    if temp > max_value:\n",
    "                        max_value = temp\n",
    "                else:\n",
    "                    counter = count                 \n",
    "                    count = 0 \n",
    "                    break\n",
    "        if next_item == (len(binary_num)):\n",
    "            break\n",
    "\n",
    "    print(\"count is =\",max_value)"
   ]
  },
  {
   "cell_type": "code",
   "execution_count": null,
   "metadata": {},
   "outputs": [],
   "source": []
  }
 ],
 "metadata": {
  "kernelspec": {
   "display_name": "Python 3",
   "language": "python",
   "name": "python3"
  },
  "language_info": {
   "codemirror_mode": {
    "name": "ipython",
    "version": 3
   },
   "file_extension": ".py",
   "mimetype": "text/x-python",
   "name": "python",
   "nbconvert_exporter": "python",
   "pygments_lexer": "ipython3",
   "version": "3.7.4"
  }
 },
 "nbformat": 4,
 "nbformat_minor": 4
}
