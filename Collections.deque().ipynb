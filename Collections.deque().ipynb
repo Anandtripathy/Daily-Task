{
 "cells": [
  {
   "cell_type": "code",
   "execution_count": 1,
   "metadata": {},
   "outputs": [
    {
     "name": "stdout",
     "output_type": "stream",
     "text": [
      "deque([1, 2])\n"
     ]
    }
   ],
   "source": [
    "from collections import deque\n",
    "d=deque()\n",
    "d.append(1)\n",
    "d.append(2)\n",
    "d.append(3)\n",
    "d.appendleft(4)\n",
    "d.pop()\n",
    "d.popleft()\n",
    "print(d)\n",
    "\n",
    "#d.pop()"
   ]
  },
  {
   "cell_type": "code",
   "execution_count": 2,
   "metadata": {},
   "outputs": [
    {
     "name": "stdout",
     "output_type": "stream",
     "text": [
      "deque([2, 1])\n",
      "deque([])\n",
      "deque(['1'])\n",
      "deque(['4', '3', '2', '1'])\n",
      "deque(['4', '3', '2', '1'])\n",
      "deque(['4', '3', '2'])\n",
      "deque(['3', '2'])\n",
      "deque(['3', '2', '7', '8', '9', '6'])\n",
      "deque(['3', '7', '8', '9', '6'])\n",
      "deque(['6', '9', '8', '7', '3'])\n",
      "deque(['8', '7', '3', '6', '9'])\n"
     ]
    }
   ],
   "source": [
    "from collections import deque\n",
    "d = deque()\n",
    "d.append(1)\n",
    "\n",
    "d.appendleft(2)\n",
    "print(d)\n",
    "d.clear()\n",
    "print(d)\n",
    "d.extend('1')\n",
    "print(d)\n",
    "d.extendleft('234')\n",
    "print(d)\n",
    "d.count('1')\n",
    "print(d)\n",
    "d.pop()\n",
    "print (d)\n",
    "d.popleft()\n",
    "print(d)\n",
    "d.extend('7896')\n",
    "print(d)\n",
    "d.remove('2')\n",
    "print (d)\n",
    "d.reverse()\n",
    "print(d)\n",
    "d.rotate(3)\n",
    "print(d)"
   ]
  },
  {
   "cell_type": "code",
   "execution_count": null,
   "metadata": {},
   "outputs": [],
   "source": [
    "from collections import deque\n",
    "d = deque()\n",
    "for _ in range(int(input())):\n",
    "    inp = input().split()\n",
    "    getattr(d, inp[0])(*[inp[1]] if len(inp) > 1 else [])\n",
    "print(*[item for item in d])"
   ]
  },
  {
   "cell_type": "code",
   "execution_count": null,
   "metadata": {},
   "outputs": [],
   "source": []
  }
 ],
 "metadata": {
  "kernelspec": {
   "display_name": "Python 3",
   "language": "python",
   "name": "python3"
  },
  "language_info": {
   "codemirror_mode": {
    "name": "ipython",
    "version": 3
   },
   "file_extension": ".py",
   "mimetype": "text/x-python",
   "name": "python",
   "nbconvert_exporter": "python",
   "pygments_lexer": "ipython3",
   "version": "3.7.4"
  }
 },
 "nbformat": 4,
 "nbformat_minor": 4
}
