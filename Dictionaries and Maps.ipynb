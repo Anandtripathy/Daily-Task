{
 "cells": [
  {
   "cell_type": "code",
   "execution_count": null,
   "metadata": {},
   "outputs": [
    {
     "name": "stdin",
     "output_type": "stream",
     "text": [
      " 2\n",
      " tom 123456\n",
      " harry 2345678\n",
      " 1\n"
     ]
    },
    {
     "name": "stdout",
     "output_type": "stream",
     "text": [
      "Not found\n"
     ]
    },
    {
     "name": "stdin",
     "output_type": "stream",
     "text": [
      " tom\n"
     ]
    },
    {
     "name": "stdout",
     "output_type": "stream",
     "text": [
      "tom=123456\n"
     ]
    },
    {
     "name": "stdin",
     "output_type": "stream",
     "text": [
      " harry\n"
     ]
    },
    {
     "name": "stdout",
     "output_type": "stream",
     "text": [
      "harry=2345678\n"
     ]
    }
   ],
   "source": [
    "n = int(input())\n",
    "name_numbers = [input().split() for _ in range(n)]\n",
    "phone_book = {k: v for k,v in name_numbers}\n",
    "while True:\n",
    "    try:\n",
    "        name = input()\n",
    "        if name in phone_book:\n",
    "            print('%s=%s' % (name, phone_book[name]))\n",
    "        else:\n",
    "            print('Not found')\n",
    "    except:\n",
    "        break"
   ]
  },
  {
   "cell_type": "code",
   "execution_count": null,
   "metadata": {},
   "outputs": [],
   "source": []
  }
 ],
 "metadata": {
  "kernelspec": {
   "display_name": "Python 3",
   "language": "python",
   "name": "python3"
  },
  "language_info": {
   "name": ""
  }
 },
 "nbformat": 4,
 "nbformat_minor": 4
}
