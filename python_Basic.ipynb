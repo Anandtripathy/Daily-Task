{
 "cells": [
  {
   "cell_type": "markdown",
   "metadata": {},
   "source": [
    "Python Coding Interview Questions And Answers"
   ]
  },
  {
   "cell_type": "code",
   "execution_count": 6,
   "metadata": {},
   "outputs": [
    {
     "name": "stdout",
     "output_type": "stream",
     "text": [
      "1\n",
      "2\n",
      "3\n"
     ]
    }
   ],
   "source": [
    "import array\n",
    "a = [1, 2, 3]\n",
    "print (a[-3])\n",
    "print (a[-2])\n",
    "print (a[-1])"
   ]
  },
  {
   "cell_type": "code",
   "execution_count": 19,
   "metadata": {},
   "outputs": [
    {
     "name": "stdout",
     "output_type": "stream",
     "text": [
      "sun mon\n"
     ]
    }
   ],
   "source": [
    "#What is <Yield> Keyword in Python?\n",
    "\n",
    "#A) The <yield> keyword in Python can turn any function into a generator. Yields work like a standard return keyword.\n",
    "\n",
    "#But it’ll always return a generator object. Also, a function can have multiple calls to the <yield> keyword.\n",
    "def textgen(index):\n",
    "    weekdays=['sun','mon','tues','wed','thur','fri','sat']\n",
    "    yield weekdays[index]\n",
    "    yield weekdays[index+1]\n",
    "day=textgen(0)\n",
    "print(next(day),next(day))\n",
    "    \n",
    "\n",
    "\n"
   ]
  },
  {
   "cell_type": "code",
   "execution_count": 30,
   "metadata": {},
   "outputs": [
    {
     "name": "stdout",
     "output_type": "stream",
     "text": [
      "['s', 'm', 't', 'w', 'th', 'f', 'st']\n",
      "list into string = smtwthfst\n"
     ]
    }
   ],
   "source": [
    "#How to convert a list into a string?\n",
    "\n",
    "weekdays=['s','m','t','w','th','f','st']\n",
    "print(weekdays)\n",
    "listAsString= ''.join(weekdays)\n",
    "print('list into string =',listAsString)"
   ]
  },
  {
   "cell_type": "code",
   "execution_count": 34,
   "metadata": {},
   "outputs": [
    {
     "name": "stdout",
     "output_type": "stream",
     "text": [
      "['s', 'm', 't', 'w', 'th', 'f', 'st']\n",
      "list into tuple = ('s', 'm', 't', 'w', 'th', 'f', 'st')\n"
     ]
    }
   ],
   "source": [
    "#How to convert a list into a tuple?\n",
    "weekdays=['s','m','t','w','th','f','st']\n",
    "print(weekdays)\n",
    "listAsTuples= tuple(weekdays)\n",
    "print('list into tuple =',listAsTuples)"
   ]
  },
  {
   "cell_type": "code",
   "execution_count": 35,
   "metadata": {},
   "outputs": [
    {
     "name": "stdout",
     "output_type": "stream",
     "text": [
      "['s', 'm', 't', 'w', 'th', 'f', 'st']\n",
      "list into set = {'f', 'th', 'm', 't', 'w', 's', 'st'}\n"
     ]
    }
   ],
   "source": [
    "#How to convert a list into a tuple?\n",
    "weekdays=['s','m','t','w','th','f','st']\n",
    "print(weekdays)\n",
    "listAsset= set(weekdays)\n",
    "print('list into set =',listAsset)"
   ]
  },
  {
   "cell_type": "code",
   "execution_count": 40,
   "metadata": {},
   "outputs": [
    {
     "name": "stdout",
     "output_type": "stream",
     "text": [
      "Count is = 3\n"
     ]
    }
   ],
   "source": [
    "# How to count the occurrences of a particular element in the list?\n",
    "weekdays = ['sun','mon','tue','wed','thu','fri','sun','mon','mon']\n",
    "print(\"Count is =\",weekdays.count('mon'))"
   ]
  },
  {
   "cell_type": "code",
   "execution_count": 41,
   "metadata": {},
   "outputs": [
    {
     "name": "stdout",
     "output_type": "stream",
     "text": [
      "[['tue', 1], ['mon', 3], ['wed', 1], ['thu', 1], ['sun', 2], ['fri', 1]]\n"
     ]
    }
   ],
   "source": [
    "# another way to count the particular elements:\n",
    "weekdays = ['sun','mon','tue','wed','thu','fri','sun','mon','mon']\n",
    "print([[x,weekdays.count(x)] for x in set(weekdays)])"
   ]
  },
  {
   "cell_type": "code",
   "execution_count": null,
   "metadata": {},
   "outputs": [],
   "source": []
  },
  {
   "cell_type": "code",
   "execution_count": null,
   "metadata": {},
   "outputs": [],
   "source": []
  },
  {
   "cell_type": "markdown",
   "metadata": {},
   "source": [
    "Advanced Python Coding Interview Questions"
   ]
  },
  {
   "cell_type": "code",
   "execution_count": 48,
   "metadata": {},
   "outputs": [
    {
     "name": "stdout",
     "output_type": "stream",
     "text": [
      "J\n"
     ]
    }
   ],
   "source": [
    "#What is the output of the below program?\n",
    "names = ['Chris', 'Jack', 'John', 'Daman']\n",
    "print(names[-2][-4])"
   ]
  },
  {
   "cell_type": "code",
   "execution_count": 51,
   "metadata": {},
   "outputs": [
    {
     "name": "stdout",
     "output_type": "stream",
     "text": [
      "0 Python\n",
      "1 java\n",
      "2 C\n",
      "3 C++\n",
      "4 php\n",
      "5 R\n"
     ]
    }
   ],
   "source": [
    "#What is Enumerate() Function in Python?\n",
    "subjects = ('Python', 'java', 'C','C++','php','R')\n",
    "for i, subject in enumerate(subjects):\n",
    "    print(i, subject)"
   ]
  },
  {
   "cell_type": "code",
   "execution_count": 62,
   "metadata": {},
   "outputs": [
    {
     "name": "stdout",
     "output_type": "stream",
     "text": [
      "{'R', 'Python', 'C++', 'php', 'java', 'C'}\n",
      "6\n"
     ]
    }
   ],
   "source": [
    "#What is data type SET in Python and how to work with it?\n",
    "#The Python data type “set” is a kind of collection.A set contains an unordered collection of unique and immutable objects.\n",
    "Objects ={'Python', 'java', 'C','C++','php','R'}\n",
    "#print set\n",
    "print(Objects)\n",
    "print(len(Objects))\n",
    "# Use of \"in\" keyword.\n",
    "if \"tips\" in Objects:\n",
    "    print(\"These are the best Python coding tips.\")"
   ]
  },
  {
   "cell_type": "code",
   "execution_count": 63,
   "metadata": {},
   "outputs": [
    {
     "name": "stdout",
     "output_type": "stream",
     "text": [
      "These are the best Python coding tips.\n"
     ]
    }
   ],
   "source": [
    "Objects ={'Python', 'java', 'C','C++','php','R','tips'}\n",
    "# Use of \"in\" keyword.\n",
    "if \"tips\" in Objects:\n",
    "    print(\"These are the best Python coding tips.\")"
   ]
  },
  {
   "cell_type": "code",
   "execution_count": 65,
   "metadata": {},
   "outputs": [
    {
     "name": "stdout",
     "output_type": "stream",
     "text": [
      "These are the best Python coding tips not Java tips.\n"
     ]
    }
   ],
   "source": [
    "#Use of \"not in\" keyword.\n",
    "\n",
    "Objects ={'Python', 'java', 'C','C++','php','R','tips'}\n",
    "if \"Java tips\" not in Objects:\n",
    "    print(\"These are the best Python coding tips not Java tips.\")\n"
   ]
  },
  {
   "cell_type": "code",
   "execution_count": 66,
   "metadata": {},
   "outputs": [
    {
     "name": "stdout",
     "output_type": "stream",
     "text": [
      "{'tips', 'coding', 'Python'}\n"
     ]
    }
   ],
   "source": [
    "#Lets initialize an empty set\n",
    "items= set()\n",
    "# Add three strings.\n",
    "items.add(\"Python\")\n",
    "items.add(\"coding\")\n",
    "items.add(\"tips\")\n",
    "print(items)"
   ]
  },
  {
   "cell_type": "code",
   "execution_count": 74,
   "metadata": {},
   "outputs": [
    {
     "name": "stdout",
     "output_type": "stream",
     "text": [
      "Python is one of coding language.\n"
     ]
    }
   ],
   "source": [
    "#concatinations:\n",
    "print('Python' + ' is' + ' one' + ' of' + ' coding' + ' language.')"
   ]
  },
  {
   "cell_type": "code",
   "execution_count": null,
   "metadata": {},
   "outputs": [],
   "source": []
  }
 ],
 "metadata": {
  "kernelspec": {
   "display_name": "Python 3",
   "language": "python",
   "name": "python3"
  },
  "language_info": {
   "codemirror_mode": {
    "name": "ipython",
    "version": 3
   },
   "file_extension": ".py",
   "mimetype": "text/x-python",
   "name": "python",
   "nbconvert_exporter": "python",
   "pygments_lexer": "ipython3",
   "version": "3.7.4"
  }
 },
 "nbformat": 4,
 "nbformat_minor": 4
}
