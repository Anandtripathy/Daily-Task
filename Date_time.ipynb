{
 "cells": [
  {
   "cell_type": "code",
   "execution_count": 48,
   "metadata": {},
   "outputs": [
    {
     "name": "stdout",
     "output_type": "stream",
     "text": [
      "102 days\n"
     ]
    }
   ],
   "source": [
    " class Date:  \n",
    "    def __init__(self, d, m, y):  \n",
    "        self.d = d             \n",
    "        self.m = m    \n",
    "        self.y = y    \n",
    "  \n",
    "monthDays = [31, 28, 31, 30, 31, 30,  \n",
    "                        31, 31, 30, 31, 30, 31 ] \n",
    "  \n",
    "def countLeapYears(d): \n",
    "      \n",
    "    years = d.y  \n",
    "       \n",
    "    if (d.m <= 2) : \n",
    "        years-= 1\n",
    "          \n",
    "    \n",
    "    return int(years / 4 - years / 100 + years / 400 ) \n",
    "   \n",
    "  \n",
    "def getDifference(dt1, dt2) : \n",
    "   \n",
    "    \n",
    "    n1 = dt1.y * 365 + dt1.d  \n",
    "  \n",
    "    \n",
    "    for i in range(0, dt1.m - 1) : \n",
    "        n1 += monthDays[i]  \n",
    "  \n",
    "    \n",
    "    n1 += countLeapYears(dt1)  \n",
    "  \n",
    "    \n",
    "  \n",
    "    n2 = dt2.y * 365 + dt2.d  \n",
    "    for i in range(0, dt2.m - 1) : \n",
    "        n2 += monthDays[i]  \n",
    "    n2 += countLeapYears(dt2)  \n",
    "  \n",
    "   \n",
    "    return (n2 - n1)  \n",
    "   \n",
    "  \n",
    "dt1 = Date(13, 12, 2018 ) \n",
    "dt2 = Date(25, 3, 2019 ) \n",
    "  \n",
    "print(getDifference(dt1, dt2), \"days\") "
   ]
  },
  {
   "cell_type": "code",
   "execution_count": 34,
   "metadata": {},
   "outputs": [
    {
     "name": "stdout",
     "output_type": "stream",
     "text": [
      "\n",
      "307\n",
      "-627\n",
      "\n"
     ]
    }
   ],
   "source": [
    "import datetime\n",
    "from datetime import date\n",
    "def differ_days(date1, date2):\n",
    "\n",
    "    a = date1\n",
    "    b = date2\n",
    "    return (a-b).days\n",
    "print()\n",
    "print(differ_days((date(2016,10,12)), date(2015,12,10)))\n",
    "print(differ_days((date(2016,3,23)), date(2017,12,10)))\n",
    "print()"
   ]
  },
  {
   "cell_type": "code",
   "execution_count": null,
   "metadata": {},
   "outputs": [],
   "source": []
  },
  {
   "cell_type": "code",
   "execution_count": 47,
   "metadata": {},
   "outputs": [
    {
     "name": "stdout",
     "output_type": "stream",
     "text": [
      "69\n"
     ]
    }
   ],
   "source": [
    "from datetime import date\n",
    "d0 = date(2017, 8, 18)\n",
    "d1 = date(2017, 10, 26)\n",
    "delta = d1 - d0\n",
    "print(delta.days)"
   ]
  },
  {
   "cell_type": "code",
   "execution_count": null,
   "metadata": {},
   "outputs": [],
   "source": []
  }
 ],
 "metadata": {
  "kernelspec": {
   "display_name": "Python 3",
   "language": "python",
   "name": "python3"
  },
  "language_info": {
   "codemirror_mode": {
    "name": "ipython",
    "version": 3
   },
   "file_extension": ".py",
   "mimetype": "text/x-python",
   "name": "python",
   "nbconvert_exporter": "python",
   "pygments_lexer": "ipython3",
   "version": "3.7.4"
  }
 },
 "nbformat": 4,
 "nbformat_minor": 4
}
