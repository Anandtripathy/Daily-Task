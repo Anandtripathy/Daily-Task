{
 "cells": [
  {
   "cell_type": "code",
   "execution_count": 23,
   "metadata": {},
   "outputs": [
    {
     "name": "stdout",
     "output_type": "stream",
     "text": [
      "Maximum contiguous sum is 6\n"
     ]
    }
   ],
   "source": [
    "from sys import maxsize\n",
    "def maxSubArraySum(a,size): \n",
    "       \n",
    "    max_so_far = -maxsize - 1\n",
    "    max_ending_here = 0\n",
    "       \n",
    "    for i in range(0, size): \n",
    "        max_ending_here = max_ending_here + a[i] \n",
    "        if (max_so_far < max_ending_here): \n",
    "            max_so_far = max_ending_here \n",
    "  \n",
    "        if max_ending_here < 0: \n",
    "            max_ending_here = 0   \n",
    "    return max_so_far \n",
    "a = [-2,1,-3,4,-1,2,1,-5,4 ]\n",
    "print (\"Maximum contiguous sum is\", maxSubArraySum(a,len(a)))"
   ]
  },
  {
   "cell_type": "code",
   "execution_count": null,
   "metadata": {},
   "outputs": [],
   "source": []
  },
  {
   "cell_type": "code",
   "execution_count": null,
   "metadata": {},
   "outputs": [],
   "source": []
  },
  {
   "cell_type": "code",
   "execution_count": null,
   "metadata": {},
   "outputs": [],
   "source": []
  }
 ],
 "metadata": {
  "kernelspec": {
   "display_name": "Python 3",
   "language": "python",
   "name": "python3"
  },
  "language_info": {
   "codemirror_mode": {
    "name": "ipython",
    "version": 3
   },
   "file_extension": ".py",
   "mimetype": "text/x-python",
   "name": "python",
   "nbconvert_exporter": "python",
   "pygments_lexer": "ipython3",
   "version": "3.7.4"
  }
 },
 "nbformat": 4,
 "nbformat_minor": 4
}
